{
 "cells": [
  {
   "cell_type": "code",
   "execution_count": null,
   "id": "5f57fb31",
   "metadata": {},
   "outputs": [],
   "source": [
    "import pandas as pd\n",
    "import numpy as np\n",
    "\n",
    "from sklearn.ensemble import RandomForestClassifier\n",
    "from sklearn.model_selection import StratifiedKFold\n",
    "from sklearn.metrics import precision_recall_fscore_support, accuracy_score, classification_report\n"
   ]
  },
  {
   "cell_type": "code",
   "execution_count": null,
   "id": "98903fa0",
   "metadata": {},
   "outputs": [],
   "source": [
    "base_dir = \"\""
   ]
  },
  {
   "cell_type": "markdown",
   "id": "582cc137",
   "metadata": {},
   "source": [
    "## RF (word2vec)"
   ]
  },
  {
   "cell_type": "code",
   "execution_count": null,
   "id": "979cb335",
   "metadata": {},
   "outputs": [],
   "source": [
    "test = pd.read_pickle(f\"{base_dir}/test_w2v_rf.pkl\")  \n",
    "train = pd.read_pickle(f\"{base_dir}/train_w2v_rf.pkl\")  "
   ]
  },
  {
   "cell_type": "code",
   "execution_count": null,
   "id": "86244157",
   "metadata": {},
   "outputs": [],
   "source": [
    "model = RandomForestClassifier(criterion=\"gini\", n_jobs=-1,  random_state=25,  n_estimators=200,  max_features='sqrt')\n",
    "model.fit(train['vec'].values.tolist(), train['label'].values.ravel())\n",
    "y_pred = model.predict(test['vec'].values.tolist())"
   ]
  },
  {
   "cell_type": "code",
   "execution_count": null,
   "id": "aea5730c",
   "metadata": {},
   "outputs": [],
   "source": [
    "print(classification_report(test['label'].values.tolist(), y_pred, digits=4))"
   ]
  },
  {
   "cell_type": "markdown",
   "id": "d7fba9e8",
   "metadata": {},
   "source": [
    "## RF (FastText)"
   ]
  },
  {
   "cell_type": "code",
   "execution_count": null,
   "id": "2245320c",
   "metadata": {},
   "outputs": [],
   "source": [
    "test = pd.read_pickle(f\"{base_dir}/test_ft_rf.pkl\")  \n",
    "train = pd.read_pickle(f\"{base_dir}/train_ft_rf.pkl\")  "
   ]
  },
  {
   "cell_type": "code",
   "execution_count": null,
   "id": "14a2146c",
   "metadata": {},
   "outputs": [],
   "source": [
    "model = RandomForestClassifier(criterion=\"gini\", n_jobs=-1,  random_state=25,  n_estimators=200,  max_features='sqrt')\n",
    "model.fit(train['vec'].values.tolist(), train['label'].values.ravel())\n",
    "y_pred = model.predict(test['vec'].values.tolist())"
   ]
  },
  {
   "cell_type": "code",
   "execution_count": null,
   "id": "92248984",
   "metadata": {},
   "outputs": [],
   "source": [
    "print(classification_report(test['label'].values.tolist(), y_pred, digits=4))"
   ]
  }
 ],
 "metadata": {
  "kernelspec": {
   "display_name": "Python 3 (ipykernel)",
   "language": "python",
   "name": "python3"
  },
  "language_info": {
   "codemirror_mode": {
    "name": "ipython",
    "version": 3
   },
   "file_extension": ".py",
   "mimetype": "text/x-python",
   "name": "python",
   "nbconvert_exporter": "python",
   "pygments_lexer": "ipython3",
   "version": "3.8.13"
  }
 },
 "nbformat": 4,
 "nbformat_minor": 5
}
