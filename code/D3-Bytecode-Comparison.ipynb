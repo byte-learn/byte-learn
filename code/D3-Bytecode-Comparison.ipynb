{
 "cells": [
  {
   "cell_type": "code",
   "execution_count": null,
   "id": "1690c762",
   "metadata": {},
   "outputs": [],
   "source": [
    "import pandas as pd\n",
    "import multiprocessing as mp\n",
    "from tqdm.auto import tqdm\n",
    "import numpy as np\n",
    "\n",
    "from sklearn.ensemble import RandomForestClassifier\n",
    "from sklearn.model_selection import StratifiedKFold\n",
    "from sklearn.metrics import precision_recall_fscore_support, accuracy_score\n",
    "\n",
    "from gensim.utils import effective_n_jobs\n",
    "from gensim.models import FastText\n",
    "\n",
    "tqdm.pandas()"
   ]
  },
  {
   "cell_type": "code",
   "execution_count": null,
   "id": "d56daf69",
   "metadata": {},
   "outputs": [],
   "source": [
    "base_dir = \"\"\n",
    "temp_dir = f\"{base_dir}/temp\""
   ]
  },
  {
   "cell_type": "markdown",
   "id": "8c6bbc67",
   "metadata": {},
   "source": [
    "## WebGraph"
   ]
  },
  {
   "cell_type": "code",
   "execution_count": null,
   "id": "48904e10",
   "metadata": {},
   "outputs": [],
   "source": [
    "data = pd.read_csv(f\"{base_dir}/D3_webgraph.csv\", sep='\\t')\n",
    "data = data.sort_values(['hostname', 'script_url'], ascending=[True, True]).reset_index(drop=True)"
   ]
  },
  {
   "cell_type": "code",
   "execution_count": null,
   "id": "769bbe06",
   "metadata": {},
   "outputs": [],
   "source": [
    "model = RandomForestClassifier(n_estimators=100, n_jobs=-1, random_state=25)\n",
    "result = list()\n",
    "kf = StratifiedKFold(n_splits=5, shuffle=True, random_state=25)\n",
    "for train_index, test_index in kf.split(np.zeros(len(data['label'])), data['label']):\n",
    "    X = data.iloc[train_index,4:].values.tolist()\n",
    "    y = data.iloc[train_index,3].values.tolist()\n",
    "    model.fit(X, y)\n",
    "    X_test = data.iloc[test_index,4:].values.tolist()\n",
    "    y_test = data.iloc[test_index,3].values.tolist()\n",
    "    y_pred = model.predict(X_test)\n",
    "    per, rec, f1, _ = precision_recall_fscore_support(y_test, y_pred, average='binary')\n",
    "    result.append((per, rec, f1, accuracy_score(y_test, y_pred)))\n",
    "    "
   ]
  },
  {
   "cell_type": "code",
   "execution_count": null,
   "id": "b5d57362",
   "metadata": {},
   "outputs": [],
   "source": [
    "print(f\"Precision: {np.mean(result, axis=0)[0]} +/- {np.std(result, axis=0)[0]}\")\n",
    "print(f\"Recall:    {np.mean(result, axis=0)[1]} +/- {np.std(result, axis=0)[1]}\")\n",
    "print(f\"f-1:       {np.mean(result, axis=0)[2]} +/- {np.std(result, axis=0)[2]}\")\n",
    "print(f\"Accuracy:  {np.mean(result, axis=0)[3]} +/- {np.std(result, axis=0)[3]}\")"
   ]
  },
  {
   "cell_type": "markdown",
   "id": "b2ffb172",
   "metadata": {},
   "source": [
    "## RF(FastText)"
   ]
  },
  {
   "cell_type": "code",
   "execution_count": null,
   "id": "54e15bf0",
   "metadata": {},
   "outputs": [],
   "source": [
    "def file_len(fname):\n",
    "    with open(fname) as f:\n",
    "        for i, l in enumerate(f):\n",
    "            pass\n",
    "    return i + 1  \n",
    "\n",
    "class ByteExpression(object):\n",
    "    def __init__(self, filename):\n",
    "        self.filename = filename\n",
    "        self.file_len = file_len(filename)\n",
    "        \n",
    "    def __iter__(self):\n",
    "        with open(self.filename, 'r') as f:\n",
    "            for ix, line in tqdm(enumerate(f), total=self.file_len, ncols=500):\n",
    "                if ix == 0:\n",
    "                    # header\n",
    "                    print(line.split('\\t')[3])\n",
    "                    continue \n",
    "                yield line.split('\\t')[3].split()\n",
    "                "
   ]
  },
  {
   "cell_type": "code",
   "execution_count": null,
   "id": "8d3369c1",
   "metadata": {},
   "outputs": [],
   "source": [
    "data = pd.read_csv(f\"{base_dir}/D3_bytecode.csv\", sep='\\t')\n",
    "data = data.sort_values(['hostname', 'script_url'], ascending=[True, True]).reset_index(drop=True)"
   ]
  },
  {
   "cell_type": "code",
   "execution_count": null,
   "id": "de2c7f63",
   "metadata": {
    "scrolled": false
   },
   "outputs": [],
   "source": [
    "\n",
    "cpu = effective_n_jobs(-1)\n",
    "ft_model = None\n",
    "\n",
    "def mean(vec):\n",
    "    return np.mean([ft_model.wv[_] for _ in vec.split()], axis=0)\n",
    "\n",
    "model = RandomForestClassifier(n_jobs=-1,  random_state=25,  n_estimators=200,  max_features='sqrt')\n",
    "result = list()\n",
    "kf = StratifiedKFold(n_splits=5, shuffle=True, random_state=25)\n",
    "for ix, (train_index, test_index) in enumerate(kf.split(np.zeros(len(data['label'])), data['label'])):\n",
    "    cpu = effective_n_jobs(-1)\n",
    "    temp_file = f\"{temp_dir}/{ix}\"\n",
    "    data.iloc[train_index].to_csv(temp_file, sep='\\t', index=False)\n",
    "    be = ByteExpression(temp_file)\n",
    "    ft_model = FastText(vector_size=100, window=3, epochs=10, workers=cpu, sg=1)\n",
    "    ft_model.build_vocab(corpus_iterable=be)\n",
    "\n",
    "    with mp.Pool(mp.cpu_count()) as pool:\n",
    "        print(\"[INFO] Converting train bytecode to vectors ...\")\n",
    "        X = pool.map(mean, data.iloc[train_index]['bytecode']) \n",
    "    y = data.iloc[train_index]['label'].values.tolist()\n",
    "    print(\"[INFO] Done ... training\")\n",
    "    model.fit(X, y)\n",
    "    \n",
    "    with mp.Pool(mp.cpu_count()) as pool:\n",
    "        print(\"[INFO] Converting test bytecode to vectors ...\")\n",
    "        X_test = pool.map(mean, data.iloc[test_index]['bytecode'])\n",
    "    y_test = data.iloc[test_index]['label'].values.tolist()\n",
    "    y_pred = model.predict(X_test)\n",
    "    per, rec, f1, _ = precision_recall_fscore_support(y_test, y_pred, average='binary')\n",
    "    print(f\"[INFO] Precision: {per}\\tRecall: {rec}\\tf-1: {f1}\")\n",
    "    result.append((per, rec, f1, accuracy_score(y_test, y_pred)))\n",
    " "
   ]
  },
  {
   "cell_type": "code",
   "execution_count": null,
   "id": "93369302",
   "metadata": {},
   "outputs": [],
   "source": [
    "print(f\"Precision: {np.mean(result, axis=0)[0]} +/- {np.std(result, axis=0)[0]}\")\n",
    "print(f\"Recall:    {np.mean(result, axis=0)[1]} +/- {np.std(result, axis=0)[1]}\")\n",
    "print(f\"f-1:       {np.mean(result, axis=0)[2]} +/- {np.std(result, axis=0)[2]}\")\n",
    "print(f\"Accuracy:  {np.mean(result, axis=0)[3]} +/- {np.std(result, axis=0)[3]}\")"
   ]
  }
 ],
 "metadata": {
  "kernelspec": {
   "display_name": "Python 3 (ipykernel)",
   "language": "python",
   "name": "python3"
  },
  "language_info": {
   "codemirror_mode": {
    "name": "ipython",
    "version": 3
   },
   "file_extension": ".py",
   "mimetype": "text/x-python",
   "name": "python",
   "nbconvert_exporter": "python",
   "pygments_lexer": "ipython3",
   "version": "3.8.13"
  }
 },
 "nbformat": 4,
 "nbformat_minor": 5
}
